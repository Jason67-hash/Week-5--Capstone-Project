{
    "cells": [
        {
            "cell_type": "code",
            "execution_count": 2,
            "metadata": {},
            "outputs": [
                {
                    "name": "stdout",
                    "output_type": "stream",
                    "text": "Solving environment: done\n\n## Package Plan ##\n\n  environment location: /opt/conda/envs/Python36\n\n  added / updated specs: \n    - geopy\n\n\nThe following packages will be downloaded:\n\n    package                    |            build\n    ---------------------------|-----------------\n    libgomp-9.3.0              |      h2828fa1_18         376 KB  conda-forge\n    _openmp_mutex-4.5          |            1_gnu          22 KB  conda-forge\n    _libgcc_mutex-0.1          |      conda_forge           3 KB  conda-forge\n    openssl-1.1.1i             |       h7f98852_0         2.1 MB  conda-forge\n    geopy-2.1.0                |     pyhd3deb0d_0          64 KB  conda-forge\n    geographiclib-1.50         |             py_0          34 KB  conda-forge\n    python_abi-3.6             |          1_cp36m           4 KB  conda-forge\n    libgcc-ng-9.3.0            |      h2828fa1_18         7.8 MB  conda-forge\n    certifi-2020.12.5          |   py36h5fab9bb_1         143 KB  conda-forge\n    ca-certificates-2020.12.5  |       ha878542_0         137 KB  conda-forge\n    ------------------------------------------------------------\n                                           Total:        10.7 MB\n\nThe following NEW packages will be INSTALLED:\n\n    _openmp_mutex:   4.5-1_gnu                conda-forge\n    geographiclib:   1.50-py_0                conda-forge\n    geopy:           2.1.0-pyhd3deb0d_0       conda-forge\n    libgomp:         9.3.0-h2828fa1_18        conda-forge\n    python_abi:      3.6-1_cp36m              conda-forge\n\nThe following packages will be UPDATED:\n\n    _libgcc_mutex:   0.1-main                             --> 0.1-conda_forge          conda-forge\n    certifi:         2020.12.5-py36h06a4308_0             --> 2020.12.5-py36h5fab9bb_1 conda-forge\n    libgcc-ng:       8.2.0-hdf63c60_1                     --> 9.3.0-h2828fa1_18        conda-forge\n    openssl:         1.1.1i-h27cfd23_0                    --> 1.1.1i-h7f98852_0        conda-forge\n\nThe following packages will be DOWNGRADED:\n\n    ca-certificates: 2020.12.8-h06a4308_0                 --> 2020.12.5-ha878542_0     conda-forge\n\n\nDownloading and Extracting Packages\nlibgomp-9.3.0        | 376 KB    | ##################################### | 100% \n_openmp_mutex-4.5    | 22 KB     | ##################################### | 100% \n_libgcc_mutex-0.1    | 3 KB      | ##################################### | 100% \nopenssl-1.1.1i       | 2.1 MB    | ##################################### | 100% \ngeopy-2.1.0          | 64 KB     | ##################################### | 100% \ngeographiclib-1.50   | 34 KB     | ##################################### | 100% \npython_abi-3.6       | 4 KB      | ##################################### | 100% \nlibgcc-ng-9.3.0      | 7.8 MB    | ##################################### | 100% \ncertifi-2020.12.5    | 143 KB    | ##################################### | 100% \nca-certificates-2020 | 137 KB    | ##################################### | 100% \nPreparing transaction: done\nVerifying transaction: done\nExecuting transaction: done\nSolving environment: done\n\n## Package Plan ##\n\n  environment location: /opt/conda/envs/Python36\n\n  added / updated specs: \n    - lxml\n\n\nThe following packages will be downloaded:\n\n    package                    |            build\n    ---------------------------|-----------------\n    lxml-4.6.2                 |   py36h04a5ba7_1         1.5 MB  conda-forge\n\nThe following packages will be UPDATED:\n\n    lxml: 4.3.1-py36hefd8a0e_0 --> 4.6.2-py36h04a5ba7_1 conda-forge\n\n\nDownloading and Extracting Packages\nlxml-4.6.2           | 1.5 MB    | ##################################### | 100% \nPreparing transaction: done\nVerifying transaction: done\nExecuting transaction: done\nLibraries imported.\n"
                }
            ],
            "source": "import numpy as np\nimport pandas as pd\n!conda install -c conda-forge geopy --yes\nfrom geopy.geocoders import Nominatim\n!conda install -c conda-forge lxml --yes\nimport requests\nimport lxml.html as lh\nfrom sklearn.cluster import KMeans\nprint(\"Libraries imported.\")"
        },
        {
            "cell_type": "code",
            "execution_count": 11,
            "metadata": {},
            "outputs": [
                {
                    "data": {
                        "text/html": "<div>\n<style scoped>\n    .dataframe tbody tr th:only-of-type {\n        vertical-align: middle;\n    }\n\n    .dataframe tbody tr th {\n        vertical-align: top;\n    }\n\n    .dataframe thead th {\n        text-align: right;\n    }\n</style>\n<table border=\"1\" class=\"dataframe\">\n  <thead>\n    <tr style=\"text-align: right;\">\n      <th></th>\n    </tr>\n  </thead>\n  <tbody>\n  </tbody>\n</table>\n</div>",
                        "text/plain": "Empty DataFrame\nColumns: []\nIndex: []"
                    },
                    "execution_count": 11,
                    "metadata": {},
                    "output_type": "execute_result"
                }
            ],
            "source": "\nurl='https://mumbai7.com/postal-codes-in-mumbai/'\n#Create a handle, page, to handle the contents of the website\npage = requests.get(url)\n#Store the contents of the website under doc\ndoc = lh.fromstring(page.content)\n#Parse data that are stored between <tr>..</tr> of HTML\ntr_elements = doc.xpath('//tr')\nr = requests.get(url)\n\ndf"
        },
        {
            "cell_type": "code",
            "execution_count": 12,
            "metadata": {},
            "outputs": [
                {
                    "data": {
                        "text/plain": "(0, 2)"
                    },
                    "execution_count": 12,
                    "metadata": {},
                    "output_type": "execute_result"
                }
            ],
            "source": "df[\"Latitude\"] = \"\"\ndf[\"Longitude\"] = \"\"\ndf.shape"
        },
        {
            "cell_type": "code",
            "execution_count": 13,
            "metadata": {},
            "outputs": [
                {
                    "data": {
                        "text/html": "<div>\n<style scoped>\n    .dataframe tbody tr th:only-of-type {\n        vertical-align: middle;\n    }\n\n    .dataframe tbody tr th {\n        vertical-align: top;\n    }\n\n    .dataframe thead th {\n        text-align: right;\n    }\n</style>\n<table border=\"1\" class=\"dataframe\">\n  <thead>\n    <tr style=\"text-align: right;\">\n      <th></th>\n      <th>Latitude</th>\n      <th>Longitude</th>\n    </tr>\n  </thead>\n  <tbody>\n  </tbody>\n</table>\n</div>",
                        "text/plain": "Empty DataFrame\nColumns: [Latitude, Longitude]\nIndex: []"
                    },
                    "execution_count": 13,
                    "metadata": {},
                    "output_type": "execute_result"
                }
            ],
            "source": "df.head()"
        },
        {
            "cell_type": "code",
            "execution_count": null,
            "metadata": {},
            "outputs": [],
            "source": "df1 = df.loc[0:25]\ndf2 = df.loc[26:50]\ndf3 = df.loc[51:75]\ndf4 = df.loc[76:100]\ndf5 = df.loc[101:125]\ndf6 = df.loc[126:150]\ndf7 = df.loc[151:156]"
        },
        {
            "cell_type": "code",
            "execution_count": 17,
            "metadata": {},
            "outputs": [],
            "source": "to_drop_unknown = []\ngeolocator = Nominatim(user_agent=\"ny_explorer\")\nfor index, row in df.iterrows():\n    address = row['Post Office'] + ', Mumbai'\n    try:\n        location = geolocator.geocode(address)\n        latitude = location.latitude\n        longitude = location.longitude\n        print('The geograpical coordinate of {} are {}, {}.'.format(address, latitude, longitude))\n        df.loc[index, 'Latitude'] = latitude\n        df.loc[index, 'Longitude'] = longitude\n    except AttributeError:\n        print('Cannot do: {}, will drop index: {}'.format(address, index))\n        to_drop_unknown.append(index)"
        },
        {
            "cell_type": "code",
            "execution_count": 19,
            "metadata": {},
            "outputs": [],
            "source": "geolocator = Nominatim(user_agent=\"ny_explorer2\")\nfor index, row in df.iterrows():\n    address = row['Post Office'] + ', Mumbai'\n    try:\n        location = geolocator.geocode(address)\n        latitude = location.latitude\n        longitude = location.longitude\n        print('The geograpical coordinate of {} are {}, {}.'.format(address, latitude, longitude))\n        df.loc[index, 'Latitude'] = latitude\n        df.loc[index, 'Longitude'] = longitude\n    except AttributeError:\n        print('Cannot do: {}, will drop index: {}'.format(address, index))\n        to_drop_unknown.append(index)"
        },
        {
            "cell_type": "code",
            "execution_count": 20,
            "metadata": {},
            "outputs": [
                {
                    "name": "stdout",
                    "output_type": "stream",
                    "text": "[]\n"
                }
            ],
            "source": "print(to_drop_unknown)"
        },
        {
            "cell_type": "code",
            "execution_count": 22,
            "metadata": {},
            "outputs": [
                {
                    "data": {
                        "text/plain": "(0, 2)"
                    },
                    "execution_count": 22,
                    "metadata": {},
                    "output_type": "execute_result"
                }
            ],
            "source": "df.shape"
        },
        {
            "cell_type": "code",
            "execution_count": null,
            "metadata": {},
            "outputs": [],
            "source": ""
        }
    ],
    "metadata": {
        "kernelspec": {
            "display_name": "Python 3.6",
            "language": "python",
            "name": "python3"
        },
        "language_info": {
            "codemirror_mode": {
                "name": "ipython",
                "version": 3
            },
            "file_extension": ".py",
            "mimetype": "text/x-python",
            "name": "python",
            "nbconvert_exporter": "python",
            "pygments_lexer": "ipython3",
            "version": "3.6.9"
        }
    },
    "nbformat": 4,
    "nbformat_minor": 1
}